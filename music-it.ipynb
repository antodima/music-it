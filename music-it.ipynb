{
  "nbformat": 4,
  "nbformat_minor": 0,
  "metadata": {
    "colab": {
      "name": "music-it.ipynb",
      "provenance": [],
      "collapsed_sections": []
    },
    "kernelspec": {
      "display_name": "Python 3",
      "language": "python",
      "name": "python3"
    },
    "language_info": {
      "codemirror_mode": {
        "name": "ipython",
        "version": 3
      },
      "file_extension": ".py",
      "mimetype": "text/x-python",
      "name": "python",
      "nbconvert_exporter": "python",
      "pygments_lexer": "ipython3",
      "version": "3.8.10"
    },
    "accelerator": "GPU"
  },
  "cells": [
    {
      "cell_type": "markdown",
      "metadata": {
        "id": "qXw7rrJPqL-9"
      },
      "source": [
        "# music-it\n",
        "Dataset from https://github.com/mdeff/fma <br/>\n",
        "https://os.unil.cloud.switch.ch/fma/fma_small.zip <br/>"
      ]
    },
    {
      "cell_type": "code",
      "metadata": {
        "id": "MW438dejV1lQ",
        "colab": {
          "base_uri": "https://localhost:8080/"
        },
        "outputId": "4e08e422-0250-41a8-f788-6e80d6453974"
      },
      "source": [
        "!pip install pretty_midi\n",
        "!pip install music21"
      ],
      "execution_count": null,
      "outputs": [
        {
          "output_type": "stream",
          "name": "stdout",
          "text": [
            "Requirement already satisfied: pretty_midi in /usr/local/lib/python3.7/dist-packages (0.2.9)\n",
            "Requirement already satisfied: numpy>=1.7.0 in /usr/local/lib/python3.7/dist-packages (from pretty_midi) (1.19.5)\n",
            "Requirement already satisfied: mido>=1.1.16 in /usr/local/lib/python3.7/dist-packages (from pretty_midi) (1.2.10)\n",
            "Requirement already satisfied: six in /usr/local/lib/python3.7/dist-packages (from pretty_midi) (1.15.0)\n",
            "Requirement already satisfied: music21 in /usr/local/lib/python3.7/dist-packages (5.5.0)\n"
          ]
        }
      ]
    },
    {
      "cell_type": "code",
      "metadata": {
        "id": "YfWraNxUqoz8"
      },
      "source": [
        "import glob\n",
        "import pickle\n",
        "import random\n",
        "from datetime import datetime\n",
        "import pretty_midi\n",
        "import numpy as np\n",
        "from sklearn.preprocessing import Normalizer\n",
        "from sklearn.model_selection import train_test_split\n",
        "from music21 import converter, instrument, stream, note, chord\n",
        "\n",
        "import tensorflow as tf\n",
        "from tensorflow.keras import backend as K\n",
        "from tensorflow.keras.callbacks import ModelCheckpoint, TensorBoard\n",
        "\n",
        "is_colab = True\n",
        "has_dataset = True"
      ],
      "execution_count": 49,
      "outputs": []
    },
    {
      "cell_type": "code",
      "metadata": {
        "id": "t4SKalry0rII"
      },
      "source": [
        "#!wget https://storage.googleapis.com/magentadata/datasets/maestro/v3.0.0/maestro-v3.0.0-midi.zip\n",
        "#!wget https://storage.googleapis.com/magentadata/datasets/maestro/v3.0.0/maestro-v3.0.0.csv\n",
        "#!wget https://storage.googleapis.com/magentadata/datasets/maestro/v3.0.0/maestro-v3.0.0.json\n",
        "#!unzip maestro-v3.0.0-midi.zip\n",
        "#!mv maestro-v3.0.0/ /content/drive/MyDrive/maestro\n",
        "#!mv maestro-v3.0.0.csv /content/drive/MyDrive/maestro\n",
        "#!mv maestro-v3.0.0.json /content/drive/MyDrive/maestro\n",
        "#!rm maestro-v3.0.0-midi.zip"
      ],
      "execution_count": null,
      "outputs": []
    },
    {
      "cell_type": "code",
      "metadata": {
        "colab": {
          "base_uri": "https://localhost:8080/"
        },
        "id": "k-RcOWYcqIOh",
        "outputId": "e04446df-3ace-443d-eec6-77a323019643"
      },
      "source": [
        "if is_colab:\n",
        "    from google.colab import drive\n",
        "    drive.mount('/content/drive')\n",
        "    data_dir = \"/content/drive/MyDrive/maestro-v3.0.0/**/*.midi\"\n",
        "    tracks_dir = \"/content/drive/MyDrive/maestro-v3.0.0/tracks\"\n",
        "    note_to_int_dir = \"/content/drive/MyDrive/maestro-v3.0.0/note_to_int\"\n",
        "    int_to_note_dir = \"/content/drive/MyDrive/maestro-v3.0.0/int_to_note\"\n",
        "else:\n",
        "    data_dir = \"maestro-v3.0.0/**/*.midi\"\n",
        "    tracks_dir = \"maestro-v3.0.0/tracks\"\n",
        "    note_to_int_dir = \"maestro-v3.0.0/note_to_int\"\n",
        "    int_to_note_dir = \"maestro-v3.0.0/int_to_note\""
      ],
      "execution_count": null,
      "outputs": [
        {
          "output_type": "stream",
          "name": "stdout",
          "text": [
            "Drive already mounted at /content/drive; to attempt to forcibly remount, call drive.mount(\"/content/drive\", force_remount=True).\n"
          ]
        }
      ]
    },
    {
      "cell_type": "code",
      "metadata": {
        "id": "-fjD-NDhVrl7"
      },
      "source": [
        "if not has_dataset:\n",
        "    count = 0\n",
        "    for i, file in enumerate(glob.glob(data_dir, recursive=True)):\n",
        "      count += 1\n",
        "\n",
        "    tracks = []\n",
        "    for i, file in enumerate(glob.glob(data_dir, recursive=True)):\n",
        "      print(f\"{i+1}/{count} {file}\")\n",
        "      midi = converter.parse(file)\n",
        "      pick = None\n",
        "      for j in midi:\n",
        "        track = []\n",
        "        songs = instrument.partitionByInstrument(j)\n",
        "        for part in songs.parts:\n",
        "          pick = part.recurse()\n",
        "          for element in pick:\n",
        "            if isinstance(element, note.Note):\n",
        "              track.append(str(element.pitch))\n",
        "            elif isinstance(element, chord.Chord):\n",
        "              track.append(\".\".join(str(n) for n in element.normalOrder))\n",
        "        tracks.append(track)\n",
        "\n",
        "    with open(notes_dir, 'wb') as filepath:\n",
        "      pickle.dump(notes, filepath)\n",
        "\n",
        "    with open(tracks_dir, 'wb') as filepath:\n",
        "      pickle.dump(tracks, filepath)"
      ],
      "execution_count": null,
      "outputs": []
    },
    {
      "cell_type": "code",
      "metadata": {
        "id": "5fZFzA8tZFg7",
        "colab": {
          "base_uri": "https://localhost:8080/"
        },
        "outputId": "c387d785-316e-43a3-d3ad-816552ef23be"
      },
      "source": [
        "tracks = pickle.load(open(tracks_dir, \"rb\"))\n",
        "\n",
        "notes = []\n",
        "for track in tracks:\n",
        "    for note in track:\n",
        "        notes.append(note)\n",
        "notes = set(notes)\n",
        "\n",
        "n_vocab = len(notes)\n",
        "print(f\"Vocab size: {n_vocab}\")\n",
        "print(f\"Number of tracks: {len(tracks)}\")\n",
        "\n",
        "pitchnames = sorted(set(item for item in notes))\n",
        "\n",
        "note_to_int = dict((note, number+1) for number, note in enumerate(pitchnames))\n",
        "note_to_int['[PAD]'] = 0\n",
        "int_to_note = dict((v,k) for k,v in note_to_int.items())\n",
        "int_to_note[0] = '[PAD]'\n",
        "\n",
        "with open(note_to_int_dir, 'wb') as filepath:\n",
        "  pickle.dump(note_to_int, filepath)\n",
        "\n",
        "with open(int_to_note_dir, 'wb') as filepath:\n",
        "  pickle.dump(int_to_note, filepath)\n",
        "\n",
        "\n",
        "max_len = max(len(x) for x in tracks)\n",
        "\n",
        "for track in tracks:\n",
        "  track += ['[PAD]']*(max_len-len(track))\n",
        "\n",
        "dataset = []\n",
        "for track in tracks:\n",
        "  dataset.append([note_to_int[note] for note in track])\n",
        "\n",
        "dataset = np.array(dataset)\n",
        "dataset.shape"
      ],
      "execution_count": 73,
      "outputs": [
        {
          "output_type": "stream",
          "name": "stdout",
          "text": [
            "Vocab size: 3158\n",
            "Number of tracks: 1276\n"
          ]
        },
        {
          "output_type": "execute_result",
          "data": {
            "text/plain": [
              "(1276, 13063)"
            ]
          },
          "metadata": {},
          "execution_count": 73
        }
      ]
    },
    {
      "cell_type": "code",
      "metadata": {
        "colab": {
          "base_uri": "https://localhost:8080/"
        },
        "id": "Ys3Qhq6zo2Rz",
        "outputId": "dacc17e0-9e7c-4f85-e645-e1725f62f992"
      },
      "source": [
        "np.random.shuffle(dataset)\n",
        "design_set, test_set = train_test_split(dataset, test_size=0.10, random_state=42)\n",
        "print(\"design_set:\", design_set.shape)\n",
        "print(\"test_set:\", test_set.shape)\n",
        "\n",
        "normalizer = Normalizer().fit(design_set)\n",
        "design_set = normalizer.transform(design_set)\n",
        "test_set = normalizer.transform(test_set)\n",
        "\n",
        "train_set, valid_set = train_test_split(design_set, test_size=0.30, random_state=42)\n",
        "print(\"train_set:\", train_set.shape)\n",
        "print(\"valid_set:\", valid_set.shape)"
      ],
      "execution_count": 75,
      "outputs": [
        {
          "output_type": "stream",
          "name": "stdout",
          "text": [
            "design_set: (1148, 13063)\n",
            "test_set: (128, 13063)\n",
            "train_set: (803, 13063)\n",
            "valid_set: (345, 13063)\n"
          ]
        }
      ]
    },
    {
      "cell_type": "code",
      "metadata": {
        "id": "RC8JLNkyswPv"
      },
      "source": [
        "def sampling(args):\n",
        "  \"\"\"Reparameterization trick by sampling from an isotropic unit Gaussian.\n",
        "  Parameters\n",
        "  ----------\n",
        "  args (tensor): mean and log of variance of Q(z|X)\n",
        "\n",
        "  Returns\n",
        "  -------\n",
        "  z (tensor): sampled latent vector\n",
        "  \"\"\"\n",
        "  z_mean, z_log_var = args\n",
        "  batch = K.shape(z_mean)[0]  # get dimension of mini-batch\n",
        "  dim = K.int_shape(z_mean)[1]  # get dimension of each z\n",
        "  # by default, random_normal has mean = 0 and std = 1.0\n",
        "  epsilon = K.random_normal(shape=(batch, dim))\n",
        "  return z_mean + K.exp(0.5 * z_log_var) * epsilon"
      ],
      "execution_count": 76,
      "outputs": []
    },
    {
      "cell_type": "code",
      "metadata": {
        "id": "kshIwvlRuNNw",
        "colab": {
          "base_uri": "https://localhost:8080/"
        },
        "outputId": "d78f9f8d-f232-4807-8b1e-fe0917e6676c"
      },
      "source": [
        "input_dim = train_set.shape[1]\n",
        "intermediate_dim = 50\n",
        "batch_size = 128\n",
        "latent_dim = 2\n",
        "epochs = 20\n",
        "lr = 1e-3\n",
        "\n",
        "inputs = tf.keras.layers.Input(shape=(input_dim,), name='encoder_input')\n",
        "#h = tf.keras.layers.Dense(intermediate_dim, activation='relu')(inputs)\n",
        "inputs_rs = tf.keras.layers.Reshape((1,input_dim), input_shape=(input_dim,))(inputs)\n",
        "h = tf.keras.layers.Bidirectional(tf.keras.layers.GRU(intermediate_dim), merge_mode='concat')(inputs_rs)\n",
        "\n",
        "z_mean =tf.keras.layers. Dense(latent_dim, activation='linear', name='z_mean')(h)\n",
        "z_log_var = tf.keras.layers.Dense(latent_dim, name='z_log_var')(h)\n",
        "z = tf.keras.layers.Lambda(sampling, output_shape=(latent_dim,), name='z')([z_mean, z_log_var])\n",
        "\n",
        "encoder = tf.keras.models.Model(inputs, [z_mean, z_log_var, z], name='encoder')\n",
        "encoder.summary()\n",
        "\n",
        "latent_inputs = tf.keras.layers.Input(shape=(latent_dim,), name='z')\n",
        "#h = tf.keras.layers.Dense(intermediate_dim, activation='relu')(latent_inputs)\n",
        "latent_inputs_rs = tf.keras.layers.Reshape((1,latent_dim), input_shape=(latent_dim,))(latent_inputs)\n",
        "h = tf.keras.layers.Bidirectional(tf.keras.layers.GRU(intermediate_dim), merge_mode='concat')(latent_inputs_rs)\n",
        "\n",
        "outputs = tf.keras.layers.Dense(input_dim, activation='sigmoid')(h)\n",
        "\n",
        "decoder = tf.keras.models.Model(latent_inputs, outputs, name='decoder')\n",
        "decoder.summary()\n",
        "\n",
        "outputs = decoder(encoder(inputs)[2])\n",
        "\n",
        "vae = tf.keras.models.Model(inputs, outputs, name='vae')\n",
        "vae.summary()"
      ],
      "execution_count": 82,
      "outputs": [
        {
          "output_type": "stream",
          "name": "stdout",
          "text": [
            "Model: \"encoder\"\n",
            "__________________________________________________________________________________________________\n",
            "Layer (type)                    Output Shape         Param #     Connected to                     \n",
            "==================================================================================================\n",
            "encoder_input (InputLayer)      [(None, 13063)]      0                                            \n",
            "__________________________________________________________________________________________________\n",
            "dense_19 (Dense)                (None, 256)          3344384     encoder_input[0][0]              \n",
            "__________________________________________________________________________________________________\n",
            "z_mean (Dense)                  (None, 2)            514         dense_19[0][0]                   \n",
            "__________________________________________________________________________________________________\n",
            "z_log_var (Dense)               (None, 2)            514         dense_19[0][0]                   \n",
            "__________________________________________________________________________________________________\n",
            "z (Lambda)                      (None, 2)            0           z_mean[0][0]                     \n",
            "                                                                 z_log_var[0][0]                  \n",
            "==================================================================================================\n",
            "Total params: 3,345,412\n",
            "Trainable params: 3,345,412\n",
            "Non-trainable params: 0\n",
            "__________________________________________________________________________________________________\n",
            "Model: \"decoder\"\n",
            "_________________________________________________________________\n",
            "Layer (type)                 Output Shape              Param #   \n",
            "=================================================================\n",
            "z (InputLayer)               [(None, 2)]               0         \n",
            "_________________________________________________________________\n",
            "dense_20 (Dense)             (None, 256)               768       \n",
            "_________________________________________________________________\n",
            "dense_21 (Dense)             (None, 13063)             3357191   \n",
            "=================================================================\n",
            "Total params: 3,357,959\n",
            "Trainable params: 3,357,959\n",
            "Non-trainable params: 0\n",
            "_________________________________________________________________\n",
            "Model: \"vae\"\n",
            "_________________________________________________________________\n",
            "Layer (type)                 Output Shape              Param #   \n",
            "=================================================================\n",
            "encoder_input (InputLayer)   [(None, 13063)]           0         \n",
            "_________________________________________________________________\n",
            "encoder (Functional)         [(None, 2), (None, 2), (N 3345412   \n",
            "_________________________________________________________________\n",
            "decoder (Functional)         (None, 13063)             3357959   \n",
            "=================================================================\n",
            "Total params: 6,703,371\n",
            "Trainable params: 6,703,371\n",
            "Non-trainable params: 0\n",
            "_________________________________________________________________\n"
          ]
        }
      ]
    },
    {
      "cell_type": "code",
      "metadata": {
        "id": "zFz41cXhvIIH"
      },
      "source": [
        "reconstruction_loss = tf.keras.losses.mse(inputs, outputs)  # Start with the Mean Squared Error\n",
        "reconstruction_loss *= input_dim  # we will average later! This is now the \"Squared Error\"\n",
        "# Compute the KL divergence, which is our additional regularization term\n",
        "kl_loss = 1 + z_log_var - K.square(z_mean) - K.exp(z_log_var)\n",
        "kl_loss = K.sum(kl_loss, axis=-1)\n",
        "kl_loss *= -0.5\n",
        "vae_loss = K.mean(reconstruction_loss + kl_loss)\n",
        "\n",
        "vae.add_loss(vae_loss)\n",
        "vae.compile(optimizer=tf.keras.optimizers.Adam(learning_rate=lr))"
      ],
      "execution_count": 83,
      "outputs": []
    },
    {
      "cell_type": "code",
      "metadata": {
        "id": "yNhqX6zFv7J_",
        "colab": {
          "base_uri": "https://localhost:8080/"
        },
        "outputId": "f5d3fc26-f434-4f86-af70-76cf53b6295f"
      },
      "source": [
        "timestamp = datetime.now().strftime(\"%Y%m%d-%H%M%S\")\n",
        "print(f\"timestamp: {timestamp}\")\n",
        "\n",
        "with tf.device('/GPU:0'):\n",
        "  history = vae.fit(train_set,\n",
        "                  epochs=epochs,\n",
        "                  batch_size=batch_size,\n",
        "                  validation_data=(valid_set, None),\n",
        "                  callbacks=[\n",
        "                    TensorBoard(log_dir=f\"/content/drive/MyDrive/music-it/logs/{timestamp}\"), \n",
        "                    ModelCheckpoint(filepath=f\"/content/drive/MyDrive/music-it/checkpoints/{timestamp}.ckpt\", monitor='loss', verbose=0, save_best_only=True, mode='min')\n",
        "                  ])"
      ],
      "execution_count": 84,
      "outputs": [
        {
          "output_type": "stream",
          "name": "stdout",
          "text": [
            "timestamp: 20211008-135052\n",
            "Epoch 1/20\n",
            "7/7 [==============================] - 1s 119ms/step - loss: 3044.2109 - val_loss: 2658.9070\n",
            "INFO:tensorflow:Assets written to: /content/drive/MyDrive/music-it/checkpoints/20211008-135052.ckpt/assets\n"
          ]
        },
        {
          "output_type": "stream",
          "name": "stderr",
          "text": [
            "INFO:tensorflow:Assets written to: /content/drive/MyDrive/music-it/checkpoints/20211008-135052.ckpt/assets\n"
          ]
        },
        {
          "output_type": "stream",
          "name": "stdout",
          "text": [
            "Epoch 2/20\n",
            "7/7 [==============================] - 0s 25ms/step - loss: 2142.1121 - val_loss: 1327.0114\n",
            "INFO:tensorflow:Assets written to: /content/drive/MyDrive/music-it/checkpoints/20211008-135052.ckpt/assets\n"
          ]
        },
        {
          "output_type": "stream",
          "name": "stderr",
          "text": [
            "INFO:tensorflow:Assets written to: /content/drive/MyDrive/music-it/checkpoints/20211008-135052.ckpt/assets\n"
          ]
        },
        {
          "output_type": "stream",
          "name": "stdout",
          "text": [
            "Epoch 3/20\n",
            "7/7 [==============================] - 0s 23ms/step - loss: 757.4909 - val_loss: 272.8053\n",
            "INFO:tensorflow:Assets written to: /content/drive/MyDrive/music-it/checkpoints/20211008-135052.ckpt/assets\n"
          ]
        },
        {
          "output_type": "stream",
          "name": "stderr",
          "text": [
            "INFO:tensorflow:Assets written to: /content/drive/MyDrive/music-it/checkpoints/20211008-135052.ckpt/assets\n"
          ]
        },
        {
          "output_type": "stream",
          "name": "stdout",
          "text": [
            "Epoch 4/20\n",
            "7/7 [==============================] - 0s 30ms/step - loss: 168.2384 - val_loss: 91.1800\n",
            "INFO:tensorflow:Assets written to: /content/drive/MyDrive/music-it/checkpoints/20211008-135052.ckpt/assets\n"
          ]
        },
        {
          "output_type": "stream",
          "name": "stderr",
          "text": [
            "INFO:tensorflow:Assets written to: /content/drive/MyDrive/music-it/checkpoints/20211008-135052.ckpt/assets\n"
          ]
        },
        {
          "output_type": "stream",
          "name": "stdout",
          "text": [
            "Epoch 5/20\n",
            "7/7 [==============================] - 0s 30ms/step - loss: 94.6980 - val_loss: 94.3721\n",
            "INFO:tensorflow:Assets written to: /content/drive/MyDrive/music-it/checkpoints/20211008-135052.ckpt/assets\n"
          ]
        },
        {
          "output_type": "stream",
          "name": "stderr",
          "text": [
            "INFO:tensorflow:Assets written to: /content/drive/MyDrive/music-it/checkpoints/20211008-135052.ckpt/assets\n"
          ]
        },
        {
          "output_type": "stream",
          "name": "stdout",
          "text": [
            "Epoch 6/20\n",
            "7/7 [==============================] - 0s 29ms/step - loss: 95.8000 - val_loss: 95.8931\n",
            "Epoch 7/20\n",
            "7/7 [==============================] - 0s 25ms/step - loss: 93.9462 - val_loss: 91.2945\n",
            "INFO:tensorflow:Assets written to: /content/drive/MyDrive/music-it/checkpoints/20211008-135052.ckpt/assets\n"
          ]
        },
        {
          "output_type": "stream",
          "name": "stderr",
          "text": [
            "INFO:tensorflow:Assets written to: /content/drive/MyDrive/music-it/checkpoints/20211008-135052.ckpt/assets\n"
          ]
        },
        {
          "output_type": "stream",
          "name": "stdout",
          "text": [
            "Epoch 8/20\n",
            "7/7 [==============================] - 0s 30ms/step - loss: 88.1705 - val_loss: 82.5217\n",
            "INFO:tensorflow:Assets written to: /content/drive/MyDrive/music-it/checkpoints/20211008-135052.ckpt/assets\n"
          ]
        },
        {
          "output_type": "stream",
          "name": "stderr",
          "text": [
            "INFO:tensorflow:Assets written to: /content/drive/MyDrive/music-it/checkpoints/20211008-135052.ckpt/assets\n"
          ]
        },
        {
          "output_type": "stream",
          "name": "stdout",
          "text": [
            "Epoch 9/20\n",
            "7/7 [==============================] - 0s 29ms/step - loss: 78.7985 - val_loss: 72.7531\n",
            "INFO:tensorflow:Assets written to: /content/drive/MyDrive/music-it/checkpoints/20211008-135052.ckpt/assets\n"
          ]
        },
        {
          "output_type": "stream",
          "name": "stderr",
          "text": [
            "INFO:tensorflow:Assets written to: /content/drive/MyDrive/music-it/checkpoints/20211008-135052.ckpt/assets\n"
          ]
        },
        {
          "output_type": "stream",
          "name": "stdout",
          "text": [
            "Epoch 10/20\n",
            "7/7 [==============================] - 0s 29ms/step - loss: 70.0370 - val_loss: 63.1439\n",
            "INFO:tensorflow:Assets written to: /content/drive/MyDrive/music-it/checkpoints/20211008-135052.ckpt/assets\n"
          ]
        },
        {
          "output_type": "stream",
          "name": "stderr",
          "text": [
            "INFO:tensorflow:Assets written to: /content/drive/MyDrive/music-it/checkpoints/20211008-135052.ckpt/assets\n"
          ]
        },
        {
          "output_type": "stream",
          "name": "stdout",
          "text": [
            "Epoch 11/20\n",
            "7/7 [==============================] - 0s 30ms/step - loss: 60.1122 - val_loss: 54.7454\n",
            "INFO:tensorflow:Assets written to: /content/drive/MyDrive/music-it/checkpoints/20211008-135052.ckpt/assets\n"
          ]
        },
        {
          "output_type": "stream",
          "name": "stderr",
          "text": [
            "INFO:tensorflow:Assets written to: /content/drive/MyDrive/music-it/checkpoints/20211008-135052.ckpt/assets\n"
          ]
        },
        {
          "output_type": "stream",
          "name": "stdout",
          "text": [
            "Epoch 12/20\n",
            "7/7 [==============================] - 0s 31ms/step - loss: 52.0603 - val_loss: 47.1330\n",
            "INFO:tensorflow:Assets written to: /content/drive/MyDrive/music-it/checkpoints/20211008-135052.ckpt/assets\n"
          ]
        },
        {
          "output_type": "stream",
          "name": "stderr",
          "text": [
            "INFO:tensorflow:Assets written to: /content/drive/MyDrive/music-it/checkpoints/20211008-135052.ckpt/assets\n"
          ]
        },
        {
          "output_type": "stream",
          "name": "stdout",
          "text": [
            "Epoch 13/20\n",
            "7/7 [==============================] - 0s 29ms/step - loss: 45.6111 - val_loss: 43.3475\n",
            "INFO:tensorflow:Assets written to: /content/drive/MyDrive/music-it/checkpoints/20211008-135052.ckpt/assets\n"
          ]
        },
        {
          "output_type": "stream",
          "name": "stderr",
          "text": [
            "INFO:tensorflow:Assets written to: /content/drive/MyDrive/music-it/checkpoints/20211008-135052.ckpt/assets\n"
          ]
        },
        {
          "output_type": "stream",
          "name": "stdout",
          "text": [
            "Epoch 14/20\n",
            "7/7 [==============================] - 0s 28ms/step - loss: 41.3797 - val_loss: 37.4793\n",
            "INFO:tensorflow:Assets written to: /content/drive/MyDrive/music-it/checkpoints/20211008-135052.ckpt/assets\n"
          ]
        },
        {
          "output_type": "stream",
          "name": "stderr",
          "text": [
            "INFO:tensorflow:Assets written to: /content/drive/MyDrive/music-it/checkpoints/20211008-135052.ckpt/assets\n"
          ]
        },
        {
          "output_type": "stream",
          "name": "stdout",
          "text": [
            "Epoch 15/20\n",
            "7/7 [==============================] - 0s 28ms/step - loss: 36.9921 - val_loss: 33.8396\n",
            "INFO:tensorflow:Assets written to: /content/drive/MyDrive/music-it/checkpoints/20211008-135052.ckpt/assets\n"
          ]
        },
        {
          "output_type": "stream",
          "name": "stderr",
          "text": [
            "INFO:tensorflow:Assets written to: /content/drive/MyDrive/music-it/checkpoints/20211008-135052.ckpt/assets\n"
          ]
        },
        {
          "output_type": "stream",
          "name": "stdout",
          "text": [
            "Epoch 16/20\n",
            "7/7 [==============================] - 0s 31ms/step - loss: 33.1745 - val_loss: 32.6130\n",
            "INFO:tensorflow:Assets written to: /content/drive/MyDrive/music-it/checkpoints/20211008-135052.ckpt/assets\n"
          ]
        },
        {
          "output_type": "stream",
          "name": "stderr",
          "text": [
            "INFO:tensorflow:Assets written to: /content/drive/MyDrive/music-it/checkpoints/20211008-135052.ckpt/assets\n"
          ]
        },
        {
          "output_type": "stream",
          "name": "stdout",
          "text": [
            "Epoch 17/20\n",
            "7/7 [==============================] - 0s 32ms/step - loss: 30.2118 - val_loss: 28.6561\n",
            "INFO:tensorflow:Assets written to: /content/drive/MyDrive/music-it/checkpoints/20211008-135052.ckpt/assets\n"
          ]
        },
        {
          "output_type": "stream",
          "name": "stderr",
          "text": [
            "INFO:tensorflow:Assets written to: /content/drive/MyDrive/music-it/checkpoints/20211008-135052.ckpt/assets\n"
          ]
        },
        {
          "output_type": "stream",
          "name": "stdout",
          "text": [
            "Epoch 18/20\n",
            "7/7 [==============================] - 0s 28ms/step - loss: 29.3445 - val_loss: 26.7429\n",
            "INFO:tensorflow:Assets written to: /content/drive/MyDrive/music-it/checkpoints/20211008-135052.ckpt/assets\n"
          ]
        },
        {
          "output_type": "stream",
          "name": "stderr",
          "text": [
            "INFO:tensorflow:Assets written to: /content/drive/MyDrive/music-it/checkpoints/20211008-135052.ckpt/assets\n"
          ]
        },
        {
          "output_type": "stream",
          "name": "stdout",
          "text": [
            "Epoch 19/20\n",
            "7/7 [==============================] - 0s 29ms/step - loss: 27.3036 - val_loss: 25.8593\n",
            "INFO:tensorflow:Assets written to: /content/drive/MyDrive/music-it/checkpoints/20211008-135052.ckpt/assets\n"
          ]
        },
        {
          "output_type": "stream",
          "name": "stderr",
          "text": [
            "INFO:tensorflow:Assets written to: /content/drive/MyDrive/music-it/checkpoints/20211008-135052.ckpt/assets\n"
          ]
        },
        {
          "output_type": "stream",
          "name": "stdout",
          "text": [
            "Epoch 20/20\n",
            "7/7 [==============================] - 0s 24ms/step - loss: 25.9659 - val_loss: 25.0347\n",
            "INFO:tensorflow:Assets written to: /content/drive/MyDrive/music-it/checkpoints/20211008-135052.ckpt/assets\n"
          ]
        },
        {
          "output_type": "stream",
          "name": "stderr",
          "text": [
            "INFO:tensorflow:Assets written to: /content/drive/MyDrive/music-it/checkpoints/20211008-135052.ckpt/assets\n"
          ]
        }
      ]
    },
    {
      "cell_type": "code",
      "metadata": {
        "id": "jg6AYPwLwrSg"
      },
      "source": [
        "%load_ext tensorboard\n",
        "logdir = f\"/content/drive/MyDrive/music-it/logs/{timestamp}\"\n",
        "%tensorboard --logdir {logdir}"
      ],
      "execution_count": null,
      "outputs": []
    },
    {
      "cell_type": "code",
      "metadata": {
        "id": "x7Pjx-53MiA_"
      },
      "source": [
        ""
      ],
      "execution_count": null,
      "outputs": []
    }
  ]
}